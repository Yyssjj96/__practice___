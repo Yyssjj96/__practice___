{
  "nbformat": 4,
  "nbformat_minor": 0,
  "metadata": {
    "colab": {
      "provenance": []
    },
    "kernelspec": {
      "name": "python3",
      "display_name": "Python 3"
    },
    "language_info": {
      "name": "python"
    }
  },
  "cells": [
    {
      "cell_type": "code",
      "execution_count": null,
      "metadata": {
        "id": "L1A__6rQfCCK"
      },
      "outputs": [],
      "source": [
        "import pandas as pd\n",
        "import numpy as np\n",
        "import seaborn as sns\n",
        "import datetime as dt\n",
        "import matplotlib.pyplot as plt\n",
        "import warnings\n",
        "warnings.filterwarnings('ignore')"
      ]
    },
    {
      "cell_type": "code",
      "source": [
        "!pip install koreanize_matplotlib"
      ],
      "metadata": {
        "colab": {
          "base_uri": "https://localhost:8080/"
        },
        "collapsed": true,
        "id": "xVdwvp1ugHEd",
        "outputId": "073408f4-dc04-41ce-8606-bc8082b7f6ce"
      },
      "execution_count": null,
      "outputs": [
        {
          "output_type": "stream",
          "name": "stdout",
          "text": [
            "Requirement already satisfied: koreanize_matplotlib in /usr/local/lib/python3.10/dist-packages (0.1.1)\n",
            "Requirement already satisfied: matplotlib in /usr/local/lib/python3.10/dist-packages (from koreanize_matplotlib) (3.7.1)\n",
            "Requirement already satisfied: contourpy>=1.0.1 in /usr/local/lib/python3.10/dist-packages (from matplotlib->koreanize_matplotlib) (1.2.1)\n",
            "Requirement already satisfied: cycler>=0.10 in /usr/local/lib/python3.10/dist-packages (from matplotlib->koreanize_matplotlib) (0.12.1)\n",
            "Requirement already satisfied: fonttools>=4.22.0 in /usr/local/lib/python3.10/dist-packages (from matplotlib->koreanize_matplotlib) (4.53.0)\n",
            "Requirement already satisfied: kiwisolver>=1.0.1 in /usr/local/lib/python3.10/dist-packages (from matplotlib->koreanize_matplotlib) (1.4.5)\n",
            "Requirement already satisfied: numpy>=1.20 in /usr/local/lib/python3.10/dist-packages (from matplotlib->koreanize_matplotlib) (1.25.2)\n",
            "Requirement already satisfied: packaging>=20.0 in /usr/local/lib/python3.10/dist-packages (from matplotlib->koreanize_matplotlib) (24.1)\n",
            "Requirement already satisfied: pillow>=6.2.0 in /usr/local/lib/python3.10/dist-packages (from matplotlib->koreanize_matplotlib) (9.4.0)\n",
            "Requirement already satisfied: pyparsing>=2.3.1 in /usr/local/lib/python3.10/dist-packages (from matplotlib->koreanize_matplotlib) (3.1.2)\n",
            "Requirement already satisfied: python-dateutil>=2.7 in /usr/local/lib/python3.10/dist-packages (from matplotlib->koreanize_matplotlib) (2.8.2)\n",
            "Requirement already satisfied: six>=1.5 in /usr/local/lib/python3.10/dist-packages (from python-dateutil>=2.7->matplotlib->koreanize_matplotlib) (1.16.0)\n"
          ]
        }
      ]
    },
    {
      "cell_type": "code",
      "source": [
        "import koreanize_matplotlib\n",
        "\n",
        "%config InlineBackend.figure_format = 'retina'"
      ],
      "metadata": {
        "id": "Txsa_AgFf6bx"
      },
      "execution_count": null,
      "outputs": []
    },
    {
      "cell_type": "code",
      "source": [
        "df = pd.read_excel('Online Retail.xlsx')"
      ],
      "metadata": {
        "colab": {
          "base_uri": "https://localhost:8080/",
          "height": 304
        },
        "id": "8bB5COLXgBdA",
        "outputId": "f617d4bb-87ac-436d-8fcc-94cc5398bf30"
      },
      "execution_count": null,
      "outputs": [
        {
          "output_type": "error",
          "ename": "FileNotFoundError",
          "evalue": "[Errno 2] No such file or directory: 'Online Retail.xlsx'",
          "traceback": [
            "\u001b[0;31m---------------------------------------------------------------------------\u001b[0m",
            "\u001b[0;31mFileNotFoundError\u001b[0m                         Traceback (most recent call last)",
            "\u001b[0;32m<ipython-input-4-4f4705623a80>\u001b[0m in \u001b[0;36m<cell line: 1>\u001b[0;34m()\u001b[0m\n\u001b[0;32m----> 1\u001b[0;31m \u001b[0mdf\u001b[0m \u001b[0;34m=\u001b[0m \u001b[0mpd\u001b[0m\u001b[0;34m.\u001b[0m\u001b[0mread_excel\u001b[0m\u001b[0;34m(\u001b[0m\u001b[0;34m'Online Retail.xlsx'\u001b[0m\u001b[0;34m)\u001b[0m\u001b[0;34m\u001b[0m\u001b[0;34m\u001b[0m\u001b[0m\n\u001b[0m",
            "\u001b[0;32m/usr/local/lib/python3.10/dist-packages/pandas/io/excel/_base.py\u001b[0m in \u001b[0;36mread_excel\u001b[0;34m(io, sheet_name, header, names, index_col, usecols, dtype, engine, converters, true_values, false_values, skiprows, nrows, na_values, keep_default_na, na_filter, verbose, parse_dates, date_parser, date_format, thousands, decimal, comment, skipfooter, storage_options, dtype_backend)\u001b[0m\n\u001b[1;32m    476\u001b[0m     \u001b[0;32mif\u001b[0m \u001b[0;32mnot\u001b[0m \u001b[0misinstance\u001b[0m\u001b[0;34m(\u001b[0m\u001b[0mio\u001b[0m\u001b[0;34m,\u001b[0m \u001b[0mExcelFile\u001b[0m\u001b[0;34m)\u001b[0m\u001b[0;34m:\u001b[0m\u001b[0;34m\u001b[0m\u001b[0;34m\u001b[0m\u001b[0m\n\u001b[1;32m    477\u001b[0m         \u001b[0mshould_close\u001b[0m \u001b[0;34m=\u001b[0m \u001b[0;32mTrue\u001b[0m\u001b[0;34m\u001b[0m\u001b[0;34m\u001b[0m\u001b[0m\n\u001b[0;32m--> 478\u001b[0;31m         \u001b[0mio\u001b[0m \u001b[0;34m=\u001b[0m \u001b[0mExcelFile\u001b[0m\u001b[0;34m(\u001b[0m\u001b[0mio\u001b[0m\u001b[0;34m,\u001b[0m \u001b[0mstorage_options\u001b[0m\u001b[0;34m=\u001b[0m\u001b[0mstorage_options\u001b[0m\u001b[0;34m,\u001b[0m \u001b[0mengine\u001b[0m\u001b[0;34m=\u001b[0m\u001b[0mengine\u001b[0m\u001b[0;34m)\u001b[0m\u001b[0;34m\u001b[0m\u001b[0;34m\u001b[0m\u001b[0m\n\u001b[0m\u001b[1;32m    479\u001b[0m     \u001b[0;32melif\u001b[0m \u001b[0mengine\u001b[0m \u001b[0;32mand\u001b[0m \u001b[0mengine\u001b[0m \u001b[0;34m!=\u001b[0m \u001b[0mio\u001b[0m\u001b[0;34m.\u001b[0m\u001b[0mengine\u001b[0m\u001b[0;34m:\u001b[0m\u001b[0;34m\u001b[0m\u001b[0;34m\u001b[0m\u001b[0m\n\u001b[1;32m    480\u001b[0m         raise ValueError(\n",
            "\u001b[0;32m/usr/local/lib/python3.10/dist-packages/pandas/io/excel/_base.py\u001b[0m in \u001b[0;36m__init__\u001b[0;34m(self, path_or_buffer, engine, storage_options)\u001b[0m\n\u001b[1;32m   1494\u001b[0m                 \u001b[0mext\u001b[0m \u001b[0;34m=\u001b[0m \u001b[0;34m\"xls\"\u001b[0m\u001b[0;34m\u001b[0m\u001b[0;34m\u001b[0m\u001b[0m\n\u001b[1;32m   1495\u001b[0m             \u001b[0;32melse\u001b[0m\u001b[0;34m:\u001b[0m\u001b[0;34m\u001b[0m\u001b[0;34m\u001b[0m\u001b[0m\n\u001b[0;32m-> 1496\u001b[0;31m                 ext = inspect_excel_format(\n\u001b[0m\u001b[1;32m   1497\u001b[0m                     \u001b[0mcontent_or_path\u001b[0m\u001b[0;34m=\u001b[0m\u001b[0mpath_or_buffer\u001b[0m\u001b[0;34m,\u001b[0m \u001b[0mstorage_options\u001b[0m\u001b[0;34m=\u001b[0m\u001b[0mstorage_options\u001b[0m\u001b[0;34m\u001b[0m\u001b[0;34m\u001b[0m\u001b[0m\n\u001b[1;32m   1498\u001b[0m                 )\n",
            "\u001b[0;32m/usr/local/lib/python3.10/dist-packages/pandas/io/excel/_base.py\u001b[0m in \u001b[0;36minspect_excel_format\u001b[0;34m(content_or_path, storage_options)\u001b[0m\n\u001b[1;32m   1369\u001b[0m         \u001b[0mcontent_or_path\u001b[0m \u001b[0;34m=\u001b[0m \u001b[0mBytesIO\u001b[0m\u001b[0;34m(\u001b[0m\u001b[0mcontent_or_path\u001b[0m\u001b[0;34m)\u001b[0m\u001b[0;34m\u001b[0m\u001b[0;34m\u001b[0m\u001b[0m\n\u001b[1;32m   1370\u001b[0m \u001b[0;34m\u001b[0m\u001b[0m\n\u001b[0;32m-> 1371\u001b[0;31m     with get_handle(\n\u001b[0m\u001b[1;32m   1372\u001b[0m         \u001b[0mcontent_or_path\u001b[0m\u001b[0;34m,\u001b[0m \u001b[0;34m\"rb\"\u001b[0m\u001b[0;34m,\u001b[0m \u001b[0mstorage_options\u001b[0m\u001b[0;34m=\u001b[0m\u001b[0mstorage_options\u001b[0m\u001b[0;34m,\u001b[0m \u001b[0mis_text\u001b[0m\u001b[0;34m=\u001b[0m\u001b[0;32mFalse\u001b[0m\u001b[0;34m\u001b[0m\u001b[0;34m\u001b[0m\u001b[0m\n\u001b[1;32m   1373\u001b[0m     ) as handle:\n",
            "\u001b[0;32m/usr/local/lib/python3.10/dist-packages/pandas/io/common.py\u001b[0m in \u001b[0;36mget_handle\u001b[0;34m(path_or_buf, mode, encoding, compression, memory_map, is_text, errors, storage_options)\u001b[0m\n\u001b[1;32m    866\u001b[0m         \u001b[0;32melse\u001b[0m\u001b[0;34m:\u001b[0m\u001b[0;34m\u001b[0m\u001b[0;34m\u001b[0m\u001b[0m\n\u001b[1;32m    867\u001b[0m             \u001b[0;31m# Binary mode\u001b[0m\u001b[0;34m\u001b[0m\u001b[0;34m\u001b[0m\u001b[0m\n\u001b[0;32m--> 868\u001b[0;31m             \u001b[0mhandle\u001b[0m \u001b[0;34m=\u001b[0m \u001b[0mopen\u001b[0m\u001b[0;34m(\u001b[0m\u001b[0mhandle\u001b[0m\u001b[0;34m,\u001b[0m \u001b[0mioargs\u001b[0m\u001b[0;34m.\u001b[0m\u001b[0mmode\u001b[0m\u001b[0;34m)\u001b[0m\u001b[0;34m\u001b[0m\u001b[0;34m\u001b[0m\u001b[0m\n\u001b[0m\u001b[1;32m    869\u001b[0m         \u001b[0mhandles\u001b[0m\u001b[0;34m.\u001b[0m\u001b[0mappend\u001b[0m\u001b[0;34m(\u001b[0m\u001b[0mhandle\u001b[0m\u001b[0;34m)\u001b[0m\u001b[0;34m\u001b[0m\u001b[0;34m\u001b[0m\u001b[0m\n\u001b[1;32m    870\u001b[0m \u001b[0;34m\u001b[0m\u001b[0m\n",
            "\u001b[0;31mFileNotFoundError\u001b[0m: [Errno 2] No such file or directory: 'Online Retail.xlsx'"
          ]
        }
      ]
    },
    {
      "cell_type": "code",
      "source": [
        "for i in df.select_dtypes(include=['object']).columns:\n",
        "  df[i] = df[i].astype(str)"
      ],
      "metadata": {
        "id": "dL0JSdbKh_bM"
      },
      "execution_count": null,
      "outputs": []
    },
    {
      "cell_type": "code",
      "source": [
        "# parquet_file_path = '/content/drive/MyDrive/online_retail.parquet'\n",
        "# df.to_parquet(parquet_file_path,index=False)"
      ],
      "metadata": {
        "id": "LAPYOpi5guTF",
        "collapsed": true
      },
      "execution_count": null,
      "outputs": []
    },
    {
      "cell_type": "code",
      "source": [
        "df = pd.read_parquet(parquet_file_path)\n",
        "df.head()\n",
        "df.tail()"
      ],
      "metadata": {
        "collapsed": true,
        "id": "wfcFCcuJhSlL"
      },
      "execution_count": null,
      "outputs": []
    },
    {
      "cell_type": "code",
      "source": [
        "df.info()"
      ],
      "metadata": {
        "collapsed": true,
        "id": "DbMdCWLmhq3g"
      },
      "execution_count": null,
      "outputs": []
    },
    {
      "cell_type": "code",
      "source": [
        "# category 형태가 속도가 더 빨라서 변환\n",
        "for i in df.select_dtypes(include=['object','datetime64[ns]']).columns :\n",
        "  df[i] = df[i].astype('category')"
      ],
      "metadata": {
        "id": "NAxAtZJJidzo"
      },
      "execution_count": null,
      "outputs": []
    },
    {
      "cell_type": "markdown",
      "source": [
        "Attribute Information :\n",
        "- invoiceNo : 송장번호, 해당 거래에 할당된 6자리 숫자\n",
        "- StockCode : 제품 코드, 각 고유 제품에 할당된 5자리 숫자\n",
        "- Description : 제품 이름\n",
        "- Quantity : 거래당 각 제품의 수량\n",
        "- InvoiceDate : 송장 날짜 및 시간, 숫자, 각 거래가 생성된 날짜 및 시간\n",
        "- UnitPrice : 단가, 숫자, 스털링(영국 화폐) 단위의 제품 가격\n",
        "- CustomerID : 고객 번호, 해당 고객에게 고유하게 할당된 5자리 정수\n",
        "- Country : 국가 이름, 해당 고객이 거주하는 고객의 이름"
      ],
      "metadata": {
        "id": "Xj73zI6kjcqK"
      }
    },
    {
      "cell_type": "code",
      "source": [
        "df.describe()"
      ],
      "metadata": {
        "collapsed": true,
        "id": "LQd9R_enjNIU"
      },
      "execution_count": null,
      "outputs": []
    },
    {
      "cell_type": "code",
      "source": [
        "# shift + tab\n",
        "# df.describe?\n",
        "df.describe(exclude='number')"
      ],
      "metadata": {
        "collapsed": true,
        "id": "w97u8bFRjQM6"
      },
      "execution_count": null,
      "outputs": []
    },
    {
      "cell_type": "code",
      "source": [
        "df.isnull().sum()\n",
        "# 비회원 구매자가 많은 것 같다."
      ],
      "metadata": {
        "collapsed": true,
        "id": "reLNY8wIkXnv"
      },
      "execution_count": null,
      "outputs": []
    },
    {
      "cell_type": "code",
      "source": [
        "df.isnull().mean()*100"
      ],
      "metadata": {
        "collapsed": true,
        "id": "DB_BTpazlgp5"
      },
      "execution_count": null,
      "outputs": []
    },
    {
      "cell_type": "code",
      "source": [
        " plt.figure(figsize=(12,4))\n",
        " sns.heatmap(df.isnull(), cmap='gray')"
      ],
      "metadata": {
        "id": "TnVy0tg0lESP"
      },
      "execution_count": null,
      "outputs": []
    },
    {
      "cell_type": "code",
      "source": [
        "df.hist(figsize=(10,6), bins=100);\n",
        "# ; 로그 안나옴\n",
        "# 값이 몰려있다. 이상치 확인 후 처리 필요"
      ],
      "metadata": {
        "collapsed": true,
        "id": "566NiPmGmAkF"
      },
      "execution_count": null,
      "outputs": []
    },
    {
      "cell_type": "code",
      "source": [
        "# 주문금액 컬럼을 만들자\n",
        "df['Totalprice'] = df['Quantity'] * df['UnitPrice']"
      ],
      "metadata": {
        "collapsed": true,
        "id": "oXluvPXpmMCW"
      },
      "execution_count": null,
      "outputs": []
    },
    {
      "cell_type": "code",
      "source": [
        "df['CustomerID'].isnull().value_counts(normalize=True)\n",
        "df['CustomerID'].isnull().value_counts(1)"
      ],
      "metadata": {
        "collapsed": true,
        "id": "FG5lllsNm2O9"
      },
      "execution_count": null,
      "outputs": []
    },
    {
      "cell_type": "code",
      "source": [
        "df.loc[~df['CustomerID'].notnull(),'Country'].value_counts()\n",
        "# true = ~true\n",
        "# ~pd.Series([True,False])"
      ],
      "metadata": {
        "id": "fJrjNd0KnAg3"
      },
      "execution_count": null,
      "outputs": []
    },
    {
      "cell_type": "code",
      "source": [
        "df['isRegistered'] = df['CustomerID'].notnull()"
      ],
      "metadata": {
        "id": "GU7yFkLnnbzv"
      },
      "execution_count": null,
      "outputs": []
    },
    {
      "cell_type": "code",
      "source": [
        "# pd.crosstab = 교차표\n",
        "pd.crosstab(df['Country'],df['isRegistered']).sort_values(True,ascending=False)"
      ],
      "metadata": {
        "collapsed": true,
        "id": "qJxsWRzsn8Ue"
      },
      "execution_count": null,
      "outputs": []
    },
    {
      "cell_type": "markdown",
      "source": [
        "*구매 취소 비율 확인*\n",
        "\n",
        "- invoiceno 컬럼의 값에 숫자가 아닌 'c'가 함께 있는 값\n",
        "\n",
        "- df['iscancel'] 컬럼 만들기\n"
      ],
      "metadata": {
        "id": "mKU3eMsjoUUA"
      }
    },
    {
      "cell_type": "code",
      "source": [
        "df['InvoiceCode'] = df['InvoiceNo'].str.replace('[0-9]','',regex=True)"
      ],
      "metadata": {
        "id": "JjNnx6hloCHJ"
      },
      "execution_count": null,
      "outputs": []
    },
    {
      "cell_type": "code",
      "source": [
        "df['InvoiceCode'].value_counts()\n",
        "df['isCancel'] = (df['InvoiceCode'] == 'C')"
      ],
      "metadata": {
        "id": "U1X17EFNoyQW"
      },
      "execution_count": null,
      "outputs": []
    },
    {
      "cell_type": "code",
      "source": [
        "# 회원 , 비회원 구매건중 취소건 비교\n",
        "# C는 취손데 A는 뭘까\n",
        "pd.crosstab(df['isRegistered'],df['InvoiceCode'])"
      ],
      "metadata": {
        "id": "gIiy_IiKpD8C"
      },
      "execution_count": null,
      "outputs": []
    },
    {
      "cell_type": "code",
      "source": [
        "df[df['InvoiceCode'] == 'A']"
      ],
      "metadata": {
        "id": "wxn3bsLhpdA-"
      },
      "execution_count": null,
      "outputs": []
    },
    {
      "cell_type": "code",
      "source": [
        "# 고객별 구매취소 비율\n",
        "# group by와 테이블 pivot하는 방식\n",
        "# 밑 두개는 같은 결과를 준다\n",
        "pd.crosstab(df['CustomerID'],df['isCancel'])\n",
        "df.groupby(['CustomerID','isCancel'])['InvoiceNo'].count().unstack()"
      ],
      "metadata": {
        "collapsed": true,
        "id": "AU5W2jRqpxAy"
      },
      "execution_count": null,
      "outputs": []
    },
    {
      "cell_type": "code",
      "source": [
        "customer_cancel = pd.crosstab(df['CustomerID'],df['isCancel'])\n",
        "customer_cancel.columns = ['정상','취소']\n",
        "customer_cancel['취소비율'] = customer_cancel['취소']/ customer_cancel['정상']"
      ],
      "metadata": {
        "id": "Yi6KAw15qPys"
      },
      "execution_count": null,
      "outputs": []
    },
    {
      "cell_type": "code",
      "source": [
        "# inf는 0으로 나눴을때 나오는 값\n",
        "customer_cancel.nlargest(10,'취소비율')\n",
        "customer_cancel.nlargest(10,'취소')"
      ],
      "metadata": {
        "collapsed": true,
        "id": "ScIkU5K0qzUN"
      },
      "execution_count": null,
      "outputs": []
    },
    {
      "cell_type": "code",
      "source": [
        "df[df['InvoiceCode'] == 'C'].hist();"
      ],
      "metadata": {
        "collapsed": true,
        "id": "eIS_CTEerEXf"
      },
      "execution_count": null,
      "outputs": []
    },
    {
      "cell_type": "code",
      "source": [
        "df[df['InvoiceCode'] == 'C'].describe()"
      ],
      "metadata": {
        "collapsed": true,
        "id": "aXD09RKlrtFU"
      },
      "execution_count": null,
      "outputs": []
    },
    {
      "cell_type": "code",
      "source": [
        "# 특정 고객에 기록 보기\n",
        "df[df['CustomerID'] == 14911]"
      ],
      "metadata": {
        "collapsed": true,
        "id": "VPqizRJ4rdeh"
      },
      "execution_count": null,
      "outputs": []
    },
    {
      "cell_type": "code",
      "source": [
        "# 제품 별 구매 취소 비율\n",
        "stock_cancel = pd.crosstab(df['StockCode'],df['isCancel'])\n",
        "df_stock_desc = df[['StockCode','Description']].drop_duplicates('StockCode').dropna().set_index('StockCode')"
      ],
      "metadata": {
        "collapsed": true,
        "id": "6fMD_kxjr2o1"
      },
      "execution_count": null,
      "outputs": []
    },
    {
      "cell_type": "code",
      "source": [
        "# merge, join\n",
        "# stock_cancel.merge(df_stock_desc,left_index=True, right_index=True)\n",
        "stock_cancel = stock_cancel.join(df_stock_desc)"
      ],
      "metadata": {
        "id": "nWlyfhWYsDnS"
      },
      "execution_count": null,
      "outputs": []
    },
    {
      "cell_type": "code",
      "source": [
        "stock_cancel.columns = ['정상','취소','설명']"
      ],
      "metadata": {
        "id": "f2jJ1x-tsnW4"
      },
      "execution_count": null,
      "outputs": []
    },
    {
      "cell_type": "code",
      "source": [
        "stock_cancel.nlargest(10,'정상')"
      ],
      "metadata": {
        "collapsed": true,
        "id": "K3S7GsRDtgJ4"
      },
      "execution_count": null,
      "outputs": []
    },
    {
      "cell_type": "code",
      "source": [
        "# 고객 id가 없는 주문과 취소 주문은 전체 데이터에서 제외"
      ],
      "metadata": {
        "id": "ATwjBOcUtsmI"
      },
      "execution_count": null,
      "outputs": []
    },
    {
      "cell_type": "code",
      "source": [
        "df.shape\n",
        "df['CustomerID'].notnull()\n",
        "df.loc[df['Quantity'] < 0,'InvoiceCode'].value_counts()\n",
        "# 취소값 말고 다른 1336 확인"
      ],
      "metadata": {
        "collapsed": true,
        "id": "qYK7XrgbyvKk"
      },
      "execution_count": null,
      "outputs": []
    },
    {
      "cell_type": "code",
      "source": [
        "df.loc[(df['Quantity'] < 0) & (df['InvoiceCode'] != 'C'),'Description'].value_counts()"
      ],
      "metadata": {
        "collapsed": true,
        "id": "C3keJk111Djj"
      },
      "execution_count": null,
      "outputs": []
    },
    {
      "cell_type": "code",
      "source": [
        "df.loc[(df['Quantity'] < 0) & (df['InvoiceCode'] != 'C'),'Quantity'].describe()"
      ],
      "metadata": {
        "collapsed": true,
        "id": "OhDkuNOZ2FPb"
      },
      "execution_count": null,
      "outputs": []
    },
    {
      "cell_type": "code",
      "source": [
        "df[df['Description'] == 'MEMO BOARD RETROSPOT  DESIGN']"
      ],
      "metadata": {
        "collapsed": true,
        "id": "YAlqEnmr1pkU"
      },
      "execution_count": null,
      "outputs": []
    },
    {
      "cell_type": "code",
      "source": [
        "df_valid = df.loc[df['CustomerID'].notnull() &\n",
        "            (df['Quantity'] > 0 ) &\n",
        "            (df['UnitPrice'] > 0 ) ]"
      ],
      "metadata": {
        "collapsed": true,
        "id": "jxB9p8UG1_Fn"
      },
      "execution_count": null,
      "outputs": []
    },
    {
      "cell_type": "code",
      "source": [
        "df.shape, df_valid.shape"
      ],
      "metadata": {
        "id": "4zjEQcPW2h1c"
      },
      "execution_count": null,
      "outputs": []
    },
    {
      "cell_type": "code",
      "source": [
        "df_valid = df_valid.drop_duplicates().copy()"
      ],
      "metadata": {
        "collapsed": true,
        "id": "h6zix8gI3GjA"
      },
      "execution_count": null,
      "outputs": []
    },
    {
      "cell_type": "code",
      "source": [
        "df_valid['InvoiceDate'] = pd.to_datetime(df_valid['InvoiceDate'])"
      ],
      "metadata": {
        "collapsed": true,
        "id": "KP-qApVO3KGI"
      },
      "execution_count": null,
      "outputs": []
    },
    {
      "cell_type": "code",
      "source": [
        "df_valid['InvoiceYear'] = df_valid['InvoiceDate'].dt.year\n",
        "df_valid['InvoiceMonth'] = df_valid['InvoiceDate'].dt.month\n",
        "df_valid['InvoiceDay'] = df_valid['InvoiceDate'].dt.day\n",
        "df_valid['InvoiceDow'] = df_valid['InvoiceDate'].dt.dayofweek"
      ],
      "metadata": {
        "id": "nk40EHfp3UJV"
      },
      "execution_count": null,
      "outputs": []
    },
    {
      "cell_type": "code",
      "source": [
        "df_valid['InvoiceYM'] = df_valid['InvoiceDate'].astype(str).str[:7]"
      ],
      "metadata": {
        "id": "26qjFgZP37Ad"
      },
      "execution_count": null,
      "outputs": []
    },
    {
      "cell_type": "code",
      "source": [
        "df_valid['InvoiceTime'] = df_valid['InvoiceDate'].dt.time\n",
        "df_valid['InvoiceHour'] = df_valid['InvoiceDate'].dt.hour"
      ],
      "metadata": {
        "collapsed": true,
        "id": "AR3n0Hdt399d"
      },
      "execution_count": null,
      "outputs": []
    },
    {
      "cell_type": "code",
      "source": [
        "df_valid.hist(figsize=(15,8),bins=70);"
      ],
      "metadata": {
        "collapsed": true,
        "id": "0BbM_LDs4UGU"
      },
      "execution_count": null,
      "outputs": []
    },
    {
      "cell_type": "code",
      "source": [
        "# countplot\n",
        "sns.countplot(data=df_valid, x='InvoiceYear',hue='InvoiceYear')"
      ],
      "metadata": {
        "id": "ADVkcRCs4n6k"
      },
      "execution_count": null,
      "outputs": []
    },
    {
      "cell_type": "code",
      "source": [
        "sns.countplot(data=df_valid,x='InvoiceMonth',hue='InvoiceMonth')"
      ],
      "metadata": {
        "id": "3ZBs0JFN5x4i"
      },
      "execution_count": null,
      "outputs": []
    },
    {
      "cell_type": "code",
      "source": [
        "sns.countplot(data=df_valid, x='InvoiceMonth', hue='InvoiceYear')"
      ],
      "metadata": {
        "id": "jjhUWH855dTB"
      },
      "execution_count": null,
      "outputs": []
    },
    {
      "cell_type": "code",
      "source": [
        "# 요일별 빈도수\n",
        "sns.countplot(data=df_valid, x='InvoiceDow')\n",
        "# 5(토욜)이 없다."
      ],
      "metadata": {
        "collapsed": true,
        "id": "pM_jAy-A5oa2"
      },
      "execution_count": null,
      "outputs": []
    },
    {
      "cell_type": "code",
      "source": [
        "day_name = [w for w in '월화수목금토일']\n",
        "day_name"
      ],
      "metadata": {
        "id": "wMjkpi5A6B2o"
      },
      "execution_count": null,
      "outputs": []
    },
    {
      "cell_type": "code",
      "source": [
        "day_name.remove('토')"
      ],
      "metadata": {
        "id": "o_h0aId46hLp"
      },
      "execution_count": null,
      "outputs": []
    },
    {
      "cell_type": "code",
      "source": [
        "dow_count = df_valid['InvoiceDow'].value_counts().sort_index()\n",
        "dow_count.index = day_name\n",
        "dow_count.plot.bar(figsize=(12,3), rot=0)"
      ],
      "metadata": {
        "collapsed": true,
        "id": "JnR5CufG6kzq"
      },
      "execution_count": null,
      "outputs": []
    },
    {
      "cell_type": "code",
      "source": [
        "df_valid['InvoiceDayName'] = df_valid['InvoiceDow'].map(lambda x :'월화수목금토일'[x])"
      ],
      "metadata": {
        "collapsed": true,
        "id": "7HF6R0UN6nxH"
      },
      "execution_count": null,
      "outputs": []
    },
    {
      "cell_type": "code",
      "source": [
        "sns.countplot(data=df_valid, x='InvoiceDayName',order=list('월화수목금토일'),hue='InvoiceDayName')\n",
        "# 목요일이 가장 주문이 많다."
      ],
      "metadata": {
        "id": "jV7RvbBx6wEY"
      },
      "execution_count": null,
      "outputs": []
    },
    {
      "cell_type": "code",
      "source": [
        "# 시간대별\n",
        "plt.figure(figsize=(12,4))\n",
        "sns.countplot(data=df_valid, x='InvoiceHour',hue='InvoiceHour')"
      ],
      "metadata": {
        "collapsed": true,
        "id": "VVpNsnze7TV-"
      },
      "execution_count": null,
      "outputs": []
    },
    {
      "cell_type": "code",
      "source": [
        "sns.pointplot(data=df_valid, x='InvoiceHour', y='Totalprice', estimator=len, errorbar=None).set_title('시간대별 주문량')"
      ],
      "metadata": {
        "collapsed": true,
        "id": "M8SqFDgD8R5j"
      },
      "execution_count": null,
      "outputs": []
    },
    {
      "cell_type": "code",
      "source": [
        "# 매출액은 10시 12시 에 가장 높다.\n",
        "sns.pointplot(data=df_valid, x='InvoiceHour', y='Totalprice', estimator=sum, errorbar=None).set_title('시간대별 매출액')"
      ],
      "metadata": {
        "id": "7CvQ8uHD7vFF"
      },
      "execution_count": null,
      "outputs": []
    },
    {
      "cell_type": "code",
      "source": [
        "list('월화수목금일')"
      ],
      "metadata": {
        "id": "-2FA3cp-bY76"
      },
      "execution_count": null,
      "outputs": []
    },
    {
      "cell_type": "code",
      "source": [
        "# 시간별,요일별 구매 빈도수\n",
        "hour_dow = pd.crosstab(df_valid['InvoiceHour'],df_valid['InvoiceDayName'])\n",
        "hour_dow = hour_dow[list('월화수목금일')]\n",
        "hour_dow"
      ],
      "metadata": {
        "id": "-DQ6nuX58APR",
        "collapsed": true
      },
      "execution_count": null,
      "outputs": []
    },
    {
      "cell_type": "code",
      "source": [
        "# 일요일 12시 가장높고 대체로 12시에 구매 빈도수가 높다.\n",
        "hour_dow.style.background_gradient(cmap='brg',axis=None).format('{:,}')\n",
        "# print(plt.colormaps()) -- 색깔 고르기"
      ],
      "metadata": {
        "collapsed": true,
        "id": "Ud_eIwvXbMbB"
      },
      "execution_count": null,
      "outputs": []
    },
    {
      "cell_type": "code",
      "source": [
        "# annot=숫자표기, fmt=표기방법\n",
        "sns.heatmap(hour_dow,cmap='Purples',annot=True,fmt=',.0f')"
      ],
      "metadata": {
        "collapsed": true,
        "id": "rW7SvfcnbtRS"
      },
      "execution_count": null,
      "outputs": []
    },
    {
      "cell_type": "code",
      "source": [
        "# 시간,요일별 구매 주문\n",
        "# subplot\n",
        "hour_dow.plot()\n",
        "plt.figure(figsize=(12,4))\n",
        "hour_dow.plot(subplots=True,kind='area');"
      ],
      "metadata": {
        "id": "OcrxJ7t9cN2z"
      },
      "execution_count": null,
      "outputs": []
    },
    {
      "cell_type": "markdown",
      "source": [
        "**고객**\n",
        "- ARPU\n",
        "  - 가입한 서비스에 대해 가입자 1명이 특정 기간 동안 지출한 평균 금액\n",
        "  -ARPU = 매출/중복을 제외한 순수 활동 사용자 수\n",
        "- ARPPU\n",
        "  - 지불 유저 1명 당 한 달에 결제하는 평균 금액을 산정한 수치\n"
      ],
      "metadata": {
        "id": "KUY6Of6Ndeh1"
      }
    },
    {
      "cell_type": "code",
      "source": [
        "# ARPPU - CUSTOMERID를 사용 할때 NUNIQUE 사용\n",
        "# ARPPU\n",
        "arppu = df_valid.groupby(['InvoiceYM']).agg({'Totalprice':'sum',\n",
        "                                             'CustomerID':'nunique'})\n",
        "arppu['ARPPU'] = arppu['Totalprice'] / arppu['CustomerID']\n",
        "arppu"
      ],
      "metadata": {
        "collapsed": true,
        "id": "y-FIQC2cc-N_"
      },
      "execution_count": null,
      "outputs": []
    },
    {
      "cell_type": "code",
      "source": [
        "arppu['Totalprice'].plot(figsize=(10,3),title='매출액');"
      ],
      "metadata": {
        "id": "n8W5ZnOwd99q"
      },
      "execution_count": null,
      "outputs": []
    },
    {
      "cell_type": "code",
      "source": [
        "arppu['ARPPU'].plot(figsize=(10,3),title='ARPPU');"
      ],
      "metadata": {
        "id": "zBrykThUemld"
      },
      "execution_count": null,
      "outputs": []
    },
    {
      "cell_type": "code",
      "source": [
        "arppu['CustomerID'].plot(figsize=(10,3), title='월별 고객 수 MAU')"
      ],
      "metadata": {
        "id": "1sk7UnhDe06d"
      },
      "execution_count": null,
      "outputs": []
    },
    {
      "cell_type": "code",
      "source": [
        "# df_valid(유효고객, 유효주문)내 고객별 (customerID ) 구매 (InvoiceNo) 빈도수 계산\n",
        "# 고객별 구매 빈도수, 평균 구매 금액, 총 구매금액\n",
        "# cust_agg\n",
        "cust_agg = df_valid.groupby('CustomerID').agg({'InvoiceNo' : 'count',\n",
        "                                               'Totalprice' : ['mean','sum']})\n",
        "cust_agg"
      ],
      "metadata": {
        "collapsed": true,
        "id": "CrLnXpvne9aA"
      },
      "execution_count": null,
      "outputs": []
    },
    {
      "cell_type": "code",
      "source": [
        "cust_agg.describe()"
      ],
      "metadata": {
        "id": "l1JreJ7lfiMe"
      },
      "execution_count": null,
      "outputs": []
    },
    {
      "cell_type": "code",
      "source": [
        "cust_agg.hist(bins=50);"
      ],
      "metadata": {
        "id": "hYMQo2WUfqvA"
      },
      "execution_count": null,
      "outputs": []
    },
    {
      "cell_type": "markdown",
      "source": [
        "***mau***\n"
      ],
      "metadata": {
        "id": "l0k-fPxjg9oz"
      }
    },
    {
      "cell_type": "code",
      "source": [
        "mau = df_valid.groupby('InvoiceYM')['CustomerID'].nunique()\n",
        "mau.plot.bar(title='MAU')"
      ],
      "metadata": {
        "id": "pZ28220lf1UT"
      },
      "execution_count": null,
      "outputs": []
    },
    {
      "cell_type": "code",
      "source": [
        "# 월별 주문건 ,중복을 제외한 주문제품 종류 수, 고객 수, 총 주문금액\n",
        "df_valid.groupby('InvoiceYM').agg({'InvoiceNo':'count',\n",
        "                                   'StockCode':'nunique',\n",
        "                                   'CustomerID' : 'nunique',\n",
        "                                   'UnitPrice' : 'mean',\n",
        "                                   'Quantity' : 'sum',\n",
        "                                   'Totalprice' : 'sum'})"
      ],
      "metadata": {
        "collapsed": true,
        "id": "rjnO5fcWhNrv"
      },
      "execution_count": null,
      "outputs": []
    },
    {
      "cell_type": "markdown",
      "source": [
        "***리텐션을 구하기 위한 월단위 데이터 전처리***\n"
      ],
      "metadata": {
        "id": "p1dVEJ_4iSX3"
      }
    },
    {
      "cell_type": "code",
      "source": [
        "# 최근 구매일 - 최초 구매일로 첫 구매 후 몇달 후 구매인지를 알 수 있다.\n",
        "# 최초 구매일(Invoicedatefirst)를 구해보자\n",
        "df_valid['Invoicedatefirst'] = df_valid.groupby(['CustomerID'])['InvoiceDate'].transform('min')"
      ],
      "metadata": {
        "id": "SeZ3CpPuhtn6"
      },
      "execution_count": null,
      "outputs": []
    },
    {
      "cell_type": "code",
      "source": [
        "df_valid[['CustomerID','InvoiceDate','Invoicedatefirst']].sample(5)"
      ],
      "metadata": {
        "id": "srUYh2LXjI08"
      },
      "execution_count": null,
      "outputs": []
    },
    {
      "cell_type": "markdown",
      "source": [
        "***첫 구매일로 부터 몇 달째 구매인가?***\n"
      ],
      "metadata": {
        "id": "psxikaHaj3YA"
      }
    },
    {
      "cell_type": "code",
      "source": [
        "# 연도별 차이 year_diff, 월별 차이 month_diff 를 구한다.\n",
        "year_diff = df_valid['InvoiceDate'].dt.year - df_valid['Invoicedatefirst'].dt.year\n",
        "month_diff = df_valid['InvoiceDate'].dt.month - df_valid['Invoicedatefirst'].dt.month\n",
        "df_valid['cohort'] = (year_diff * 12) + month_diff +1\n",
        "df_valid['cohort']"
      ],
      "metadata": {
        "collapsed": true,
        "id": "P7mLFnkyj7_r"
      },
      "execution_count": null,
      "outputs": []
    },
    {
      "cell_type": "code",
      "source": [
        "# 서서히 낮아지기 보단 첫 구매후 급격하게 떨어진다.\n",
        "sns.countplot(data=df_valid, x='cohort',hue='cohort')"
      ],
      "metadata": {
        "collapsed": true,
        "id": "6Sy57Gaij7tW"
      },
      "execution_count": null,
      "outputs": []
    },
    {
      "cell_type": "markdown",
      "source": [
        "**잔존 빈도 구하기**"
      ],
      "metadata": {
        "id": "i3jEoxHAlXJO"
      }
    },
    {
      "cell_type": "code",
      "source": [
        "df_valid['Invoicedatefirstym'] = df_valid['Invoicedatefirst'].astype(str).str[:7]"
      ],
      "metadata": {
        "id": "UESsVZW2jvjT"
      },
      "execution_count": null,
      "outputs": []
    },
    {
      "cell_type": "code",
      "source": [
        "# invoicedatefirstym, cohort 로 그룹화 후 customerid의 유일값에 대한 빈도수를 구한다.\n",
        "cohort_count = df_valid.groupby(['Invoicedatefirstym','cohort'])['CustomerID'].nunique().unstack()"
      ],
      "metadata": {
        "collapsed": true,
        "id": "3jnxdA5alfy9"
      },
      "execution_count": null,
      "outputs": []
    },
    {
      "cell_type": "code",
      "source": [
        "plt.figure(figsize=(12,8))\n",
        "sns.heatmap(cohort_count,cmap='Greens',annot=True,fmt='.0f')"
      ],
      "metadata": {
        "collapsed": true,
        "id": "sSZLtESglvTT"
      },
      "execution_count": null,
      "outputs": []
    },
    {
      "cell_type": "code",
      "source": [
        "cohort_count[1].plot(rot=0,title='월별 신규 고객 수')"
      ],
      "metadata": {
        "collapsed": true,
        "id": "whwc6xO7l_Zo"
      },
      "execution_count": null,
      "outputs": []
    },
    {
      "cell_type": "markdown",
      "source": [
        "*잔존율 구하기*"
      ],
      "metadata": {
        "id": "fUCVNqQHnNRg"
      }
    },
    {
      "cell_type": "code",
      "source": [
        "# div, axis=0을 사용해 첫 달을 기준으로 나머지 달을 나눌 수 있다.\n",
        "cohort_norm = cohort_count.div(cohort_count[1],axis=0)"
      ],
      "metadata": {
        "id": "DlaJY7qPnASl"
      },
      "execution_count": null,
      "outputs": []
    },
    {
      "cell_type": "code",
      "source": [
        "sns.heatmap(cohort_norm,cmap='Oranges',annot=True)"
      ],
      "metadata": {
        "collapsed": true,
        "id": "YkWR_0nonS5U"
      },
      "execution_count": null,
      "outputs": []
    },
    {
      "cell_type": "markdown",
      "source": [
        "월별 매출액 리텐션"
      ],
      "metadata": {
        "id": "SM1CiOr3nuck"
      }
    },
    {
      "cell_type": "code",
      "source": [
        "cohort_totalprice = df_valid.groupby(['Invoicedatefirstym','cohort'])['Totalprice'].sum().unstack()"
      ],
      "metadata": {
        "id": "bnDXo0HNndVJ"
      },
      "execution_count": null,
      "outputs": []
    },
    {
      "cell_type": "code",
      "source": [
        "# 2010-12월에 첫구매한 고객들이 꾸준히 높은 매출을 유지하고 있으며\n",
        "# 갈수록 매출액은 떨어지고 있다\n",
        "plt.figure(figsize=(22,8))\n",
        "sns.heatmap(cohort_totalprice,cmap='Blues',annot=True,fmt=',.0f')"
      ],
      "metadata": {
        "collapsed": true,
        "id": "Hmq9HM5An9Ud"
      },
      "execution_count": null,
      "outputs": []
    },
    {
      "cell_type": "markdown",
      "source": [
        "**RFM 분석**\n",
        "- RECENCY , FREQUENCY, MONETARY\n",
        "- 거래의 최근성, 거래빈도, 거래규모 기준을 가지고 고객을 입체적으로 분류, 파악하는 분석\n",
        "- SCORING 기법 : RFM 요인을 각각 5등급으로 동간격으로 분류하는 방법\n",
        "- 파레토 법칙 : 상위 20% 고객이 80%에 매출을 차지 한다.\n"
      ],
      "metadata": {
        "id": "A4b80ekpzacV"
      }
    },
    {
      "cell_type": "code",
      "source": [
        "raw_valid = df[(df['CustomerID'].notnull()) &\n",
        "               (df['Quantity'] > 0) &\n",
        "               (df['UnitPrice'] > 0)].copy()"
      ],
      "metadata": {
        "id": "K2dckbEYoG2O"
      },
      "execution_count": null,
      "outputs": []
    },
    {
      "cell_type": "code",
      "source": [
        "raw_valid.shape"
      ],
      "metadata": {
        "id": "mrEMPeIZ0xDX"
      },
      "execution_count": null,
      "outputs": []
    },
    {
      "cell_type": "code",
      "source": [
        "raw_valid['TotalPrice'] = raw_valid['Quantity'] * raw_valid['UnitPrice']"
      ],
      "metadata": {
        "id": "Hw-iXN6m1KNq"
      },
      "execution_count": null,
      "outputs": []
    },
    {
      "cell_type": "code",
      "source": [
        "raw_valid.describe()"
      ],
      "metadata": {
        "collapsed": true,
        "id": "BEHFguqu1YCb"
      },
      "execution_count": null,
      "outputs": []
    },
    {
      "cell_type": "code",
      "source": [
        "raw_valid[raw_valid['TotalPrice'] > 160000]"
      ],
      "metadata": {
        "collapsed": true,
        "id": "qwGTAkA_1bkc"
      },
      "execution_count": null,
      "outputs": []
    },
    {
      "cell_type": "code",
      "source": [
        "raw_valid = raw_valid[raw_valid['TotalPrice'] < 160000].copy()"
      ],
      "metadata": {
        "id": "1YFaNv8l1vzn"
      },
      "execution_count": null,
      "outputs": []
    },
    {
      "cell_type": "code",
      "source": [
        "# keep = 'first' 중복 데이터 발견시 처음 데이터 사용 (first, last, False)로 설정 가능\n",
        "raw_valid.duplicated(keep='first')\n",
        "# 중복된 데이터\n",
        "raw_valid[raw_valid.duplicated(keep=False)].sort_values(['InvoiceNo','StockCode'])"
      ],
      "metadata": {
        "collapsed": true,
        "id": "dEwSNVEs12aF"
      },
      "execution_count": null,
      "outputs": []
    },
    {
      "cell_type": "code",
      "source": [
        "# 중복된 데이터 제거\n",
        "df2 = raw_valid.drop_duplicates().copy()"
      ],
      "metadata": {
        "id": "gWArgiKd1_cy"
      },
      "execution_count": null,
      "outputs": []
    },
    {
      "cell_type": "code",
      "source": [
        "df2['InvoiceDate'] = pd.to_datetime(df2['InvoiceDate'])"
      ],
      "metadata": {
        "id": "bUJai8bD2sJI"
      },
      "execution_count": null,
      "outputs": []
    },
    {
      "cell_type": "code",
      "source": [
        "# Recency 계산을 위해 해당 주문에서 가장 최근 구매가 일어난 시간을 가져옵니다.\n",
        "# 최근 거래 기준일(last_timestamp)을 만들기 위해 timedelta로 날짜를 더해줍니다 (최소값:1 설정)\n",
        "last_timestamp = df2['InvoiceDate'].max() + dt.timedelta(days=1)"
      ],
      "metadata": {
        "id": "ZJkKCiEC2tVG"
      },
      "execution_count": null,
      "outputs": []
    },
    {
      "cell_type": "markdown",
      "source": [
        "고객별 recency, frequency, monetary 값 구하기"
      ],
      "metadata": {
        "id": "SwA-Ul9Y3REz"
      }
    },
    {
      "cell_type": "code",
      "source": [
        "# recency : 최근 거래 기준일 (last_timestamp)과 고객별 최근 구매한 날짜 x.max()의 차이\n",
        "# frequency : 구매 빈도수\n",
        "# monetary : 총 구매 금액\n",
        "rfm = df2.groupby('CustomerID').agg({'InvoiceDate' : lambda x: (last_timestamp - x.max()).days,\n",
        "                              'InvoiceNo': 'count',\n",
        "                              'TotalPrice': 'sum'})"
      ],
      "metadata": {
        "id": "tZjruKgv3Cfy"
      },
      "execution_count": null,
      "outputs": []
    },
    {
      "cell_type": "code",
      "source": [
        "rfm = rfm.rename(columns={'InvoiceDate':'Recency', 'InvoiceNo':'Frequency','TotalPrice':'Monetary'})"
      ],
      "metadata": {
        "id": "kSS7OMYrg8Fm"
      },
      "execution_count": null,
      "outputs": []
    },
    {
      "cell_type": "code",
      "source": [
        "print(rfm.describe())\n",
        "rfm.hist(bins=60);"
      ],
      "metadata": {
        "collapsed": true,
        "id": "OLOz4ufLhq61"
      },
      "execution_count": null,
      "outputs": []
    },
    {
      "cell_type": "code",
      "source": [
        "# plt.figure(figsize=(6,3))\n",
        "# sns.boxplot(rfm)\n",
        "# 스케일 차이가 크다\n",
        "'''sns.boxplot(data=rfm,x='Recency')\n",
        "sns.boxplot(data=rfm,x='Frequency')\n",
        "sns.boxplot(data=rfm,x='Monetary')'''"
      ],
      "metadata": {
        "collapsed": true,
        "id": "x-AbKjTwiGm7"
      },
      "execution_count": null,
      "outputs": []
    },
    {
      "cell_type": "markdown",
      "source": [
        "RFM 모형\n",
        "- SCORING 기법 : RFM 요인을 5가지로 분류하는 방법\n",
        "- 현재 개발된 RFM 모형은 크게 4가지로 분류\n",
        "  - 모델1 : RFM 각 요소의 20% RULE 적용\n",
        "  - 모델2 : 비율 척도에 의한 양적인 정도의 차이에 따른 등간격의 5등급 분류\n",
        "  - 모델3 : 상하 20%를 제외한 등간격 척도에 의한 그룹 분류\n",
        "  - 모델4 : 군집 분석에 의한 각 요소 5개의 그룹 분류"
      ],
      "metadata": {
        "id": "BFTHRaWPivJs"
      }
    },
    {
      "cell_type": "code",
      "source": [
        "# pandas에 cut, qcut 알아보기 (hist를 그릴 때 설정하는 bin과 같은 느낌)\n",
        "# cut은 주로 연속적인 숫자 데이터를 일정한 구간으로 나누어 범주형 변수로 변환 할 때 사용\n",
        "# qcut 구간에 동일한 수의 데이터가 포함되도록 한다. 따라서 데이터 분포에 따라 구간 경계가 자동으로 조정 된다.\n",
        "# 차이점 : cut은 사용자가 지정한 구간 크기나 경계에 따라 나뉘고, qcut은 동일한 개수의 데이터가 포함되도록 나눈다.\n",
        "# 쉽게 말하면 시험이 절대평가면 cut으로 등급을 나누고 상대평가면 qcut으로 등급을 나눈다!"
      ],
      "metadata": {
        "id": "d7aDj4o7hrr8"
      },
      "execution_count": null,
      "outputs": []
    },
    {
      "cell_type": "code",
      "source": [
        "# Recency는 최근일수록 높은 스코러을 갖도록 한다.\n",
        "# Frequency, Monetary는 값이 클 수록 높은 스코어를 갖도록 한다.\n",
        "r_labels = list(range(5,0,-1))\n",
        "f_labels = list(range(1,6))\n",
        "m_labels = list(range(1,6,))"
      ],
      "metadata": {
        "id": "8QXfry_skl35"
      },
      "execution_count": null,
      "outputs": []
    },
    {
      "cell_type": "code",
      "source": [
        "rfm\n",
        "cut_size = 5"
      ],
      "metadata": {
        "id": "XHVCbrsalM7E"
      },
      "execution_count": null,
      "outputs": []
    },
    {
      "cell_type": "code",
      "source": [
        "r_qcut= pd.qcut(x=rfm['Recency'],q=cut_size,labels=r_labels)\n",
        "f_qcut = pd.qcut(x=rfm['Frequency'],q=cut_size,labels=f_labels)\n",
        "m_qcut = pd.qcut(x=rfm['Monetary'],q=cut_size,labels=m_labels)"
      ],
      "metadata": {
        "id": "5EFnzfWyj9yj"
      },
      "execution_count": null,
      "outputs": []
    },
    {
      "cell_type": "code",
      "source": [
        "f_qcut.value_counts(1)\n",
        "m_qcut.value_counts(1)\n",
        "r_qcut.value_counts(1)"
      ],
      "metadata": {
        "id": "5Ep4KUHqlVNG"
      },
      "execution_count": null,
      "outputs": []
    },
    {
      "cell_type": "code",
      "source": [
        "# 열을 한번에 추가하는 법\n",
        "rfm = rfm.assign(R=r_qcut,F=f_qcut,M=m_qcut)\n",
        "rfm.head()"
      ],
      "metadata": {
        "collapsed": true,
        "id": "ft9AoA-wltO7"
      },
      "execution_count": null,
      "outputs": []
    },
    {
      "cell_type": "code",
      "source": [
        "rfm['RFM_segment'] = rfm['R'].astype(str) + rfm['F'].astype(str) + rfm['M'].astype(str)"
      ],
      "metadata": {
        "id": "OBaIouKyl84h"
      },
      "execution_count": null,
      "outputs": []
    },
    {
      "cell_type": "code",
      "source": [
        "rfm['RFM_score'] = rfm[['R','F','M']].astype(int).sum(axis=1)"
      ],
      "metadata": {
        "id": "tyXgfjp6mN_0"
      },
      "execution_count": null,
      "outputs": []
    },
    {
      "cell_type": "code",
      "source": [
        "plt.figure(figsize=(20,4))\n",
        "plt.xticks(rotation=90)\n",
        "sns.barplot(data=rfm.sort_values('RFM_segment'),x='RFM_segment',y='RFM_score',hue='RFM_segment')"
      ],
      "metadata": {
        "collapsed": true,
        "id": "BfU8_ePUmZPQ"
      },
      "execution_count": null,
      "outputs": []
    },
    {
      "cell_type": "code",
      "source": [
        "ax = plt.axes(projection='3d')\n",
        "ax.scatter3D(rfm['R'],rfm['F'],rfm['M'])"
      ],
      "metadata": {
        "id": "Wvb8dmJkm7V-"
      },
      "execution_count": null,
      "outputs": []
    },
    {
      "cell_type": "code",
      "source": [
        "ax = plt.axes(projection='3d')\n",
        "ax.scatter3D(rfm['Recency'],rfm['Frequency'],rfm['Monetary'])"
      ],
      "metadata": {
        "id": "CRmz2DJ2miMB"
      },
      "execution_count": null,
      "outputs": []
    },
    {
      "cell_type": "code",
      "source": [
        "# qcut을 해줘서 'R','F','M' 값의 분포가 넓어짐\n",
        "rfm.astype(int).hist(bins=5,figsize=(10,6));"
      ],
      "metadata": {
        "collapsed": true,
        "id": "ydTsf7jvnJws"
      },
      "execution_count": null,
      "outputs": []
    },
    {
      "cell_type": "code",
      "source": [
        "rfm.groupby(['RFM_score']).agg({'Recency':'mean',\n",
        "                                'Frequency':'mean',\n",
        "                                'Monetary':['mean','sum']}).style.background_gradient().format('{:,.0f}')"
      ],
      "metadata": {
        "id": "MYpdXQa7nTla"
      },
      "execution_count": null,
      "outputs": []
    },
    {
      "cell_type": "code",
      "source": [
        "# 덜 세분화 해보자 'silver','gold','platinum' 으로 고객군을 나눠보자\n",
        "rfm['RFM_class'] = pd.qcut(x=rfm['RFM_score'],q=3,labels=['silver','gold','platinum'] )"
      ],
      "metadata": {
        "id": "c1B1FqTynsxc"
      },
      "execution_count": null,
      "outputs": []
    },
    {
      "cell_type": "code",
      "source": [
        "rfm.groupby('RFM_class')['RFM_score'].describe()"
      ],
      "metadata": {
        "collapsed": true,
        "id": "m80CIiAmo5B8"
      },
      "execution_count": null,
      "outputs": []
    },
    {
      "cell_type": "code",
      "source": [
        "sns.barplot(data=rfm,x='RFM_class',y='RFM_score',hue='RFM_class')"
      ],
      "metadata": {
        "id": "9_zZUUwwo5jL"
      },
      "execution_count": null,
      "outputs": []
    },
    {
      "cell_type": "code",
      "source": [
        "sns.boxplot(data=rfm,x='RFM_class',y='RFM_score')"
      ],
      "metadata": {
        "id": "HtsdWFfzpKCV"
      },
      "execution_count": null,
      "outputs": []
    },
    {
      "cell_type": "code",
      "source": [
        "# pointplot\n",
        "sns.pointplot(data=rfm,x='R',y='RFM_score',hue='RFM_class')\n",
        "sns.pointplot(data=rfm,x='F',y='RFM_score',hue='RFM_class')\n",
        "sns.pointplot(data=rfm,x='M',y='RFM_score',hue='RFM_class')"
      ],
      "metadata": {
        "collapsed": true,
        "id": "aV-BaV9TpRg6"
      },
      "execution_count": null,
      "outputs": []
    },
    {
      "cell_type": "code",
      "source": [
        "# RFM_class 별로 그룹화\n",
        "# 'Recency','Frequency'의 평균을 구한다\n",
        "# 'Montary'의 'mean','sum','count'를 구한\n",
        "rfm.groupby('RFM_class').agg({'Recency':'mean',\n",
        "                              'Frequency':'mean',\n",
        "                              'Monetary':['mean','sum','count']}).style.background_gradient().format('{:,.0f}')"
      ],
      "metadata": {
        "id": "LFOa8DBSpaSH"
      },
      "execution_count": null,
      "outputs": []
    },
    {
      "cell_type": "code",
      "source": [
        "# pairplot을 통해 rfm class 별로 분포를 시각화 해보자\n",
        "sns.pairplot(data=rfm.sample(300),hue='RFM_class')"
      ],
      "metadata": {
        "collapsed": true,
        "id": "LL2MhfTGp1uv"
      },
      "execution_count": null,
      "outputs": []
    },
    {
      "cell_type": "code",
      "source": [
        "corr = rfm.select_dtypes(include='number').corr()"
      ],
      "metadata": {
        "id": "bmOzpGisqRgi"
      },
      "execution_count": null,
      "outputs": []
    },
    {
      "cell_type": "code",
      "source": [
        "mask = np.triu(np.ones_like(corr))"
      ],
      "metadata": {
        "id": "n2Q78Qsaq5GW"
      },
      "execution_count": null,
      "outputs": []
    },
    {
      "cell_type": "code",
      "source": [
        "sns.heatmap(corr,annot=True,cmap='coolwarm',mask=mask)\n",
        "# Recency는 최근일수록 점수를 높게 주었으니 음의 상관관계가 높게 나왔다."
      ],
      "metadata": {
        "collapsed": true,
        "id": "BNf8Jnj5qrHn"
      },
      "execution_count": null,
      "outputs": []
    },
    {
      "cell_type": "code",
      "source": [
        "rfm.to_csv('rfm.csv')"
      ],
      "metadata": {
        "id": "0DUH0lw1q1V3"
      },
      "execution_count": null,
      "outputs": []
    },
    {
      "cell_type": "code",
      "source": [
        "pd.read_csv('rfm.csv')"
      ],
      "metadata": {
        "id": "ERGAlN4MrQE7"
      },
      "execution_count": null,
      "outputs": []
    },
    {
      "cell_type": "code",
      "source": [],
      "metadata": {
        "id": "08jPU9g1rydE"
      },
      "execution_count": null,
      "outputs": []
    }
  ]
}