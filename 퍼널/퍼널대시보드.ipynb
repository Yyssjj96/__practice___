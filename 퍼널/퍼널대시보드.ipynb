{
  "nbformat": 4,
  "nbformat_minor": 0,
  "metadata": {
    "colab": {
      "provenance": [],
      "authorship_tag": "ABX9TyP+TWJm6zG3l6KPmKYCUKNF",
      "include_colab_link": true
    },
    "kernelspec": {
      "name": "python3",
      "display_name": "Python 3"
    },
    "language_info": {
      "name": "python"
    }
  },
  "cells": [
    {
      "cell_type": "markdown",
      "metadata": {
        "id": "view-in-github",
        "colab_type": "text"
      },
      "source": [
        "<a href=\"https://colab.research.google.com/github/Yyssjj96/__practice___/blob/main/%ED%8D%BC%EB%84%90%EB%8C%80%EC%8B%9C%EB%B3%B4%EB%93%9C.ipynb\" target=\"_parent\"><img src=\"https://colab.research.google.com/assets/colab-badge.svg\" alt=\"Open In Colab\"/></a>"
      ]
    },
    {
      "cell_type": "markdown",
      "source": [
        "퍼널 차트\n",
        "- 퍼널 차트는 플로우의 흐름에 단계가 있을 때 사용 하기 좋다.\n",
        "- 단계별로 지표가 어떻게 변하는지 한 눈에 확인 할 수 있다.\n",
        "- 각 단계 중 어디에서 병목현상이 일어나는지 직관적으로 확인할 수 있다.\n",
        "- 전략 수립과 현황파악에 중요한 역할을 한다.\n",
        "- 예시 : 마케팅 퍼널 차트, 서비스 user 여정 시각화"
      ],
      "metadata": {
        "id": "ad0jDUWxsTD5"
      }
    },
    {
      "cell_type": "markdown",
      "source": [
        "*태블로 퍼널차트에 포함되는 요소*\n",
        "- 영역 그래프로 퍼널차트 구성\n",
        "- 각 단계의 레이블링\n",
        "- 단계별 유입 유저에 대한 텍스트 표시\n"
      ],
      "metadata": {
        "id": "ypnKAPCYsj43"
      }
    },
    {
      "cell_type": "markdown",
      "source": [
        "시계열 그래프\n",
        "- 시간에 따른 변수 값의 추세를 시각화\n",
        "- 시간이 흐름에 따라 지표가 어떻게 변하는지 확인\n",
        "- 앱 서비스에서는 시간, 요일, 월, 연도별로 나눠서 확인한다.\n",
        "- yoy(전년대비)등을 비교해 인사이트를 얻을 수 있다.\n",
        "- 예시 : 월별 활성유저 트렌드, 요일별 유저 유입 그래프"
      ],
      "metadata": {
        "id": "IFwp5rvNsnpl"
      }
    },
    {
      "cell_type": "markdown",
      "source": [
        "*시계열 차트에 포함된 요소*\n",
        "- 퍼널별 전체 유입수 라인그래프\n",
        "- 각 채널별 유입수를 나타내는 막대그래프\n",
        "- 이중축 및 텍스트 레이블링으로 뷰 구성\n",
        "- 퍼널별 단일 값 필터링\n"
      ],
      "metadata": {
        "id": "kbPAGtrbwcwe"
      }
    },
    {
      "cell_type": "markdown",
      "source": [
        "태블로에서 '계층'\n",
        "- 태블로에서는 분리된 차원을 사용자가 지정해 '계층'을 만들 수 있다.\n",
        "- 예를 들어 지역 데이터가 따로 분리되어 있을 때 시/도 - 시군구 - 동 의 계층을 만들 수 있다.\n",
        "- 계층을 만들면 데이터 시각화에서 각 수준 사이를 빠르게 드릴다운하여 볼 수 있다.\n",
        "- 즉 , 빠르게 각 뎁스에서의 데이터 시각화를 볼 수 있다.\n"
      ],
      "metadata": {
        "id": "eMyO5bWazYdi"
      }
    },
    {
      "cell_type": "markdown",
      "source": [
        "\n",
        "*디지털 마케팅에서의 계층*\n",
        "- 어떤 매체에서, 어떤 캠페인으로 많이 유입되었는지가 중요\n",
        "- 예를 들어 매체 카테고리 - 매체 세부(인스타, 페이스북) - 캠페인 세부\n",
        "- 각 계층별 어떤 항목에서 많이 유입이 있는지, 각 채널, 캠페인 별로 cpa, ctc, ctr 등을 산정하는 것이 필요\n",
        "- 즉 각 계층을 확인해야 마케팅 예산을 효율적으로 사용 할 수 있다.\n",
        "- 데이터 분석가의 역할은 마케터가 손쉽게 볼 수 있도록 데이터를 시각화 하는게 중요하다."
      ],
      "metadata": {
        "id": "JQbkCLwf0De5"
      }
    },
    {
      "cell_type": "markdown",
      "source": [
        "계층형 필터 만들기에 포함되는 요소\n",
        "- 'channel 상위'와 같은 계산된 필드 만들기\n",
        "- '채널 계층' 만들기\n",
        "- 'channel 계층 뷰' 매개변수 만들기\n",
        "- 계층 뷰를 뷰에 적용하고 필터로 만들기"
      ],
      "metadata": {
        "id": "lCqEN6I90ReD"
      }
    },
    {
      "cell_type": "markdown",
      "source": [
        "집계 뷰에 매개변수를 활용\n",
        "- 동일한 차트에서 표시되는 집계의 기준만 바꾸고 싶을 때!\n",
        "- 예를 들어, 동일한 그래프에서 절대값, 전환율, 비율차이 등을 바꿔가며 보고 싶을 때!\n"
      ],
      "metadata": {
        "id": "cwiQ0j3b0fSk"
      }
    },
    {
      "cell_type": "markdown",
      "source": [],
      "metadata": {
        "id": "8lZikzEu2ORZ"
      }
    }
  ]
}
