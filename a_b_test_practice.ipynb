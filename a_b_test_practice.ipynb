{
  "nbformat": 4,
  "nbformat_minor": 0,
  "metadata": {
    "colab": {
      "provenance": [],
      "authorship_tag": "ABX9TyPAbkcPO4iuL+qB2QMnLboc",
      "include_colab_link": true
    },
    "kernelspec": {
      "name": "python3",
      "display_name": "Python 3"
    },
    "language_info": {
      "name": "python"
    }
  },
  "cells": [
    {
      "cell_type": "markdown",
      "metadata": {
        "id": "view-in-github",
        "colab_type": "text"
      },
      "source": [
        "<a href=\"https://colab.research.google.com/github/Yyssjj96/__practice___/blob/main/a_b_test_practice.ipynb\" target=\"_parent\"><img src=\"https://colab.research.google.com/assets/colab-badge.svg\" alt=\"Open In Colab\"/></a>"
      ]
    },
    {
      "cell_type": "code",
      "source": [
        "!pip install faker"
      ],
      "metadata": {
        "colab": {
          "base_uri": "https://localhost:8080/"
        },
        "id": "4BBIhWyqCr6l",
        "outputId": "97508579-0cee-46b9-c027-e955afe28c22"
      },
      "execution_count": null,
      "outputs": [
        {
          "output_type": "stream",
          "name": "stdout",
          "text": [
            "Collecting faker\n",
            "  Downloading Faker-25.9.1-py3-none-any.whl (1.8 MB)\n",
            "\u001b[2K     \u001b[90m━━━━━━━━━━━━━━━━━━━━━━━━━━━━━━━━━━━━━━━━\u001b[0m \u001b[32m1.8/1.8 MB\u001b[0m \u001b[31m28.3 MB/s\u001b[0m eta \u001b[36m0:00:00\u001b[0m\n",
            "\u001b[?25hRequirement already satisfied: python-dateutil>=2.4 in /usr/local/lib/python3.10/dist-packages (from faker) (2.8.2)\n",
            "Requirement already satisfied: six>=1.5 in /usr/local/lib/python3.10/dist-packages (from python-dateutil>=2.4->faker) (1.16.0)\n",
            "Installing collected packages: faker\n",
            "Successfully installed faker-25.9.1\n"
          ]
        }
      ]
    },
    {
      "cell_type": "code",
      "execution_count": null,
      "metadata": {
        "id": "8Q8NJa5XCD1m"
      },
      "outputs": [],
      "source": [
        "from faker import Faker\n",
        "import random\n",
        "import pandas as pd\n",
        "\n",
        "fake = Faker()\n",
        "\n",
        "# 데이터 생성 함수 정의\n",
        "def generate_dummy_data(num_users, with_advertisement):\n",
        "    data = []\n",
        "    for _ in range(num_users):\n",
        "        user_id = fake.random_int(min=10000, max=99999)\n",
        "        has_advertisement = with_advertisement\n",
        "        retention_7 = random.choice([True, False])  # 재방문 여부 (7일 이후)\n",
        "\n",
        "        data.append([user_id, has_advertisement, retention_7])\n",
        "\n",
        "    return pd.DataFrame(data, columns=['userid', 'has_advertisement', 'retention_7'])\n",
        "\n",
        "# 광고가 없는 그룹 데이터 생성 (300명)\n",
        "group_no_ad = generate_dummy_data(num_users=300, with_advertisement=False)\n",
        "\n",
        "# 광고가 있는 그룹 데이터 생성 (300명)\n",
        "group_with_ad = generate_dummy_data(num_users=300, with_advertisement=True)\n",
        "\n",
        "# 두 데이터프레임 합치기\n",
        "dummy_data = pd.concat([group_no_ad, group_with_ad], ignore_index=True)\n",
        "\n",
        "# 데이터 저장\n",
        "dummy_data.to_csv('dummy_ab_test_data.csv', index=False)"
      ]
    },
    {
      "cell_type": "code",
      "source": [
        "import pandas as pd\n",
        "from scipy import stats\n",
        "\n",
        "df = pd.read_csv('dummy_ab_test_data.csv')\n",
        "\n",
        "print(df.head())\n",
        "\n",
        "# 광고가 있는 그룹과 없는 그룹으로 데이터 분할\n",
        "group_no_ad = df[df['has_advertisement'] == False]['retention_7']\n",
        "group_with_ad = df[df['has_advertisement'] == True]['retention_7']\n",
        "\n",
        "# 각 그룹의 샘플 크기 확인\n",
        "print(f'광고가 없는 그룹 샘플 수: {len(group_no_ad)}')\n",
        "print(f'광고가 있는 그룹 샘플 수: {len(group_with_ad)}')"
      ],
      "metadata": {
        "colab": {
          "base_uri": "https://localhost:8080/"
        },
        "id": "NC_i3HkUEKUb",
        "outputId": "d0cddc63-28d0-4c6a-d3b1-c49d885ec5c2"
      },
      "execution_count": null,
      "outputs": [
        {
          "output_type": "stream",
          "name": "stdout",
          "text": [
            "   userid  has_advertisement  retention_7\n",
            "0   53974              False        False\n",
            "1   78371              False         True\n",
            "2   68149              False        False\n",
            "3   92869              False         True\n",
            "4   40320              False        False\n",
            "광고가 없는 그룹 샘플 수: 300\n",
            "광고가 있는 그룹 샘플 수: 300\n"
          ]
        }
      ]
    },
    {
      "cell_type": "code",
      "source": [
        "# 각 그룹의 평균 재방문율 계산\n",
        "mean_no_ad = group_no_ad.mean()\n",
        "mean_with_ad = group_with_ad.mean()\n",
        "\n",
        "print(f'광고가 없는 그룹 재방문율: {mean_no_ad:.2%}')\n",
        "print(f'광고가 있는 그룹 재방문율: {mean_with_ad:.2%}')\n",
        "\n",
        "# 두 그룹의 평균 차이 계산\n",
        "mean_diff = mean_with_ad - mean_no_ad\n",
        "print(f'평균 차이: {mean_diff:.2%}')\n",
        "\n",
        "# t-검정 수행\n",
        "t_stat, p_value = stats.ttest_ind(group_no_ad, group_with_ad)\n",
        "print(f't-검정 통계량: {t_stat:.2f}')\n",
        "print(f'p-value: {p_value:.4f}')\n",
        "\n",
        "# p-value 기준으로 유의수준 설정\n",
        "alpha = 0.05\n",
        "if p_value < alpha:\n",
        "    print('통계적으로 유의미한 차이가 있음')\n",
        "else:\n",
        "    print('통계적으로 유의미한 차이가 없음')"
      ],
      "metadata": {
        "colab": {
          "base_uri": "https://localhost:8080/"
        },
        "id": "411cmhM_EW8S",
        "outputId": "0fb3f5c7-c66b-4853-add4-9b335b51e963"
      },
      "execution_count": null,
      "outputs": [
        {
          "output_type": "stream",
          "name": "stdout",
          "text": [
            "광고가 없는 그룹 재방문율: 52.67%\n",
            "광고가 있는 그룹 재방문율: 45.33%\n",
            "평균 차이: -7.33%\n",
            "t-검정 통계량: 1.80\n",
            "p-value: 0.0726\n",
            "통계적으로 유의미한 차이가 없음\n"
          ]
        }
      ]
    },
    {
      "cell_type": "code",
      "source": [],
      "metadata": {
        "id": "Iu-BZPpRFi-W"
      },
      "execution_count": null,
      "outputs": []
    }
  ]
}